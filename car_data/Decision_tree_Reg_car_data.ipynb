{
 "cells": [
  {
   "cell_type": "markdown",
   "id": "6cd54388",
   "metadata": {},
   "source": [
    "### import libraries"
   ]
  },
  {
   "cell_type": "code",
   "execution_count": 1,
   "id": "a6a02bc2",
   "metadata": {},
   "outputs": [],
   "source": [
    "import numpy as np\n",
    "import pandas as pd\n",
    "from sklearn.model_selection import train_test_split\n",
    "from sklearn.tree import DecisionTreeRegressor,plot_tree\n",
    "from sklearn.metrics import mean_absolute_error,mean_squared_error , r2_score\n",
    "import matplotlib.pyplot as plt\n",
    "import seaborn as sns"
   ]
  },
  {
   "cell_type": "markdown",
   "id": "306e88ce",
   "metadata": {},
   "source": [
    "### Problem Statement "
   ]
  },
  {
   "cell_type": "code",
   "execution_count": null,
   "id": "84c5254b-2af8-44e0-adaf-0cc1f7308216",
   "metadata": {},
   "outputs": [],
   "source": [
    "* About Dataset:\n",
    "The data features are as follows:\n",
    "The price of a car depends on a lot of factors like the goodwill of the brand of the car, features of the car, horsepower \n",
    "and the mileage it gives and many more. Car price prediction is one of the major research areas in machine learning.<b>\n",
    "So if you want to learn how to train a car price prediction model<b>\n",
    "\n",
    "* Features Information:\n",
    "🚘Car_Name: Give the information of car Name.\n",
    "\n",
    "📅Year: Give the information about Manufacturing year of car.\n",
    "\n",
    "💸Selling_Price: Give the information about selling price.\n",
    "\n",
    "💷Present_Price: Give the information about present price in showroom.\n",
    "\n",
    "🚕Kms_Driven: Give the information about car driven in km.\n",
    "\n",
    "🌫Fuel_Type: Give the information about which type of fuel is used Petrol ,Diesel or CNG.\n",
    "\n",
    "🚙Seller_Type: Give the information about seller_type Dealer or Individual.\n",
    "\n",
    "Transmission: Give the information about Transmission system whether is Manual or Automatic.\n",
    "\n",
    "Owner: Number of previous owners of the car\n",
    "\n",
    "☸️ Project target : Predict Used car price based on car specifications\n",
    "\n",
    "_Data cleaning\n",
    "\n",
    "_feature engineering\n",
    "\n",
    "_Getting more insights\n",
    "\n",
    "_Data Pre-processing\n",
    "\n",
    "_modeling\n",
    "\n",
    "_evalution"
   ]
  },
  {
   "cell_type": "code",
   "execution_count": null,
   "id": "bb358b8c",
   "metadata": {},
   "outputs": [],
   "source": []
  },
  {
   "cell_type": "markdown",
   "id": "25fc6f5e",
   "metadata": {},
   "source": [
    "### Data Gathering "
   ]
  },
  {
   "cell_type": "code",
   "execution_count": 2,
   "id": "e140d4f5",
   "metadata": {},
   "outputs": [
    {
     "data": {
      "text/html": [
       "<div>\n",
       "<style scoped>\n",
       "    .dataframe tbody tr th:only-of-type {\n",
       "        vertical-align: middle;\n",
       "    }\n",
       "\n",
       "    .dataframe tbody tr th {\n",
       "        vertical-align: top;\n",
       "    }\n",
       "\n",
       "    .dataframe thead th {\n",
       "        text-align: right;\n",
       "    }\n",
       "</style>\n",
       "<table border=\"1\" class=\"dataframe\">\n",
       "  <thead>\n",
       "    <tr style=\"text-align: right;\">\n",
       "      <th></th>\n",
       "      <th>Car_Name</th>\n",
       "      <th>Year</th>\n",
       "      <th>Selling_Price</th>\n",
       "      <th>Present_Price</th>\n",
       "      <th>Driven_kms</th>\n",
       "      <th>Fuel_Type</th>\n",
       "      <th>Selling_type</th>\n",
       "      <th>Transmission</th>\n",
       "      <th>Owner</th>\n",
       "    </tr>\n",
       "  </thead>\n",
       "  <tbody>\n",
       "    <tr>\n",
       "      <th>0</th>\n",
       "      <td>ritz</td>\n",
       "      <td>2014</td>\n",
       "      <td>3.35</td>\n",
       "      <td>5.59</td>\n",
       "      <td>27000</td>\n",
       "      <td>Petrol</td>\n",
       "      <td>Dealer</td>\n",
       "      <td>Manual</td>\n",
       "      <td>0</td>\n",
       "    </tr>\n",
       "    <tr>\n",
       "      <th>1</th>\n",
       "      <td>sx4</td>\n",
       "      <td>2013</td>\n",
       "      <td>4.75</td>\n",
       "      <td>9.54</td>\n",
       "      <td>43000</td>\n",
       "      <td>Diesel</td>\n",
       "      <td>Dealer</td>\n",
       "      <td>Manual</td>\n",
       "      <td>0</td>\n",
       "    </tr>\n",
       "    <tr>\n",
       "      <th>2</th>\n",
       "      <td>ciaz</td>\n",
       "      <td>2017</td>\n",
       "      <td>7.25</td>\n",
       "      <td>9.85</td>\n",
       "      <td>6900</td>\n",
       "      <td>Petrol</td>\n",
       "      <td>Dealer</td>\n",
       "      <td>Manual</td>\n",
       "      <td>0</td>\n",
       "    </tr>\n",
       "    <tr>\n",
       "      <th>3</th>\n",
       "      <td>wagon r</td>\n",
       "      <td>2011</td>\n",
       "      <td>2.85</td>\n",
       "      <td>4.15</td>\n",
       "      <td>5200</td>\n",
       "      <td>Petrol</td>\n",
       "      <td>Dealer</td>\n",
       "      <td>Manual</td>\n",
       "      <td>0</td>\n",
       "    </tr>\n",
       "    <tr>\n",
       "      <th>4</th>\n",
       "      <td>swift</td>\n",
       "      <td>2014</td>\n",
       "      <td>4.60</td>\n",
       "      <td>6.87</td>\n",
       "      <td>42450</td>\n",
       "      <td>Diesel</td>\n",
       "      <td>Dealer</td>\n",
       "      <td>Manual</td>\n",
       "      <td>0</td>\n",
       "    </tr>\n",
       "    <tr>\n",
       "      <th>...</th>\n",
       "      <td>...</td>\n",
       "      <td>...</td>\n",
       "      <td>...</td>\n",
       "      <td>...</td>\n",
       "      <td>...</td>\n",
       "      <td>...</td>\n",
       "      <td>...</td>\n",
       "      <td>...</td>\n",
       "      <td>...</td>\n",
       "    </tr>\n",
       "    <tr>\n",
       "      <th>296</th>\n",
       "      <td>city</td>\n",
       "      <td>2016</td>\n",
       "      <td>9.50</td>\n",
       "      <td>11.60</td>\n",
       "      <td>33988</td>\n",
       "      <td>Diesel</td>\n",
       "      <td>Dealer</td>\n",
       "      <td>Manual</td>\n",
       "      <td>0</td>\n",
       "    </tr>\n",
       "    <tr>\n",
       "      <th>297</th>\n",
       "      <td>brio</td>\n",
       "      <td>2015</td>\n",
       "      <td>4.00</td>\n",
       "      <td>5.90</td>\n",
       "      <td>60000</td>\n",
       "      <td>Petrol</td>\n",
       "      <td>Dealer</td>\n",
       "      <td>Manual</td>\n",
       "      <td>0</td>\n",
       "    </tr>\n",
       "    <tr>\n",
       "      <th>298</th>\n",
       "      <td>city</td>\n",
       "      <td>2009</td>\n",
       "      <td>3.35</td>\n",
       "      <td>11.00</td>\n",
       "      <td>87934</td>\n",
       "      <td>Petrol</td>\n",
       "      <td>Dealer</td>\n",
       "      <td>Manual</td>\n",
       "      <td>0</td>\n",
       "    </tr>\n",
       "    <tr>\n",
       "      <th>299</th>\n",
       "      <td>city</td>\n",
       "      <td>2017</td>\n",
       "      <td>11.50</td>\n",
       "      <td>12.50</td>\n",
       "      <td>9000</td>\n",
       "      <td>Diesel</td>\n",
       "      <td>Dealer</td>\n",
       "      <td>Manual</td>\n",
       "      <td>0</td>\n",
       "    </tr>\n",
       "    <tr>\n",
       "      <th>300</th>\n",
       "      <td>brio</td>\n",
       "      <td>2016</td>\n",
       "      <td>5.30</td>\n",
       "      <td>5.90</td>\n",
       "      <td>5464</td>\n",
       "      <td>Petrol</td>\n",
       "      <td>Dealer</td>\n",
       "      <td>Manual</td>\n",
       "      <td>0</td>\n",
       "    </tr>\n",
       "  </tbody>\n",
       "</table>\n",
       "<p>301 rows × 9 columns</p>\n",
       "</div>"
      ],
      "text/plain": [
       "    Car_Name  Year  Selling_Price  Present_Price  Driven_kms Fuel_Type  \\\n",
       "0       ritz  2014           3.35           5.59       27000    Petrol   \n",
       "1        sx4  2013           4.75           9.54       43000    Diesel   \n",
       "2       ciaz  2017           7.25           9.85        6900    Petrol   \n",
       "3    wagon r  2011           2.85           4.15        5200    Petrol   \n",
       "4      swift  2014           4.60           6.87       42450    Diesel   \n",
       "..       ...   ...            ...            ...         ...       ...   \n",
       "296     city  2016           9.50          11.60       33988    Diesel   \n",
       "297     brio  2015           4.00           5.90       60000    Petrol   \n",
       "298     city  2009           3.35          11.00       87934    Petrol   \n",
       "299     city  2017          11.50          12.50        9000    Diesel   \n",
       "300     brio  2016           5.30           5.90        5464    Petrol   \n",
       "\n",
       "    Selling_type Transmission  Owner  \n",
       "0         Dealer       Manual      0  \n",
       "1         Dealer       Manual      0  \n",
       "2         Dealer       Manual      0  \n",
       "3         Dealer       Manual      0  \n",
       "4         Dealer       Manual      0  \n",
       "..           ...          ...    ...  \n",
       "296       Dealer       Manual      0  \n",
       "297       Dealer       Manual      0  \n",
       "298       Dealer       Manual      0  \n",
       "299       Dealer       Manual      0  \n",
       "300       Dealer       Manual      0  \n",
       "\n",
       "[301 rows x 9 columns]"
      ]
     },
     "execution_count": 2,
     "metadata": {},
     "output_type": "execute_result"
    }
   ],
   "source": [
    "df= pd.read_csv('car_data.csv')\n",
    "df"
   ]
  },
  {
   "cell_type": "markdown",
   "id": "3575c5fb",
   "metadata": {},
   "source": [
    "### Exploratory Data Analysis"
   ]
  },
  {
   "cell_type": "code",
   "execution_count": 3,
   "id": "ebe2e804",
   "metadata": {},
   "outputs": [
    {
     "name": "stdout",
     "output_type": "stream",
     "text": [
      "<class 'pandas.core.frame.DataFrame'>\n",
      "RangeIndex: 301 entries, 0 to 300\n",
      "Data columns (total 9 columns):\n",
      " #   Column         Non-Null Count  Dtype  \n",
      "---  ------         --------------  -----  \n",
      " 0   Car_Name       301 non-null    object \n",
      " 1   Year           301 non-null    int64  \n",
      " 2   Selling_Price  301 non-null    float64\n",
      " 3   Present_Price  301 non-null    float64\n",
      " 4   Driven_kms     301 non-null    int64  \n",
      " 5   Fuel_Type      301 non-null    object \n",
      " 6   Selling_type   301 non-null    object \n",
      " 7   Transmission   301 non-null    object \n",
      " 8   Owner          301 non-null    int64  \n",
      "dtypes: float64(2), int64(3), object(4)\n",
      "memory usage: 21.3+ KB\n"
     ]
    }
   ],
   "source": [
    "df.info()"
   ]
  },
  {
   "cell_type": "code",
   "execution_count": 4,
   "id": "76c5dfe7",
   "metadata": {},
   "outputs": [
    {
     "data": {
      "text/plain": [
       "Car_Name         0\n",
       "Year             0\n",
       "Selling_Price    0\n",
       "Present_Price    0\n",
       "Driven_kms       0\n",
       "Fuel_Type        0\n",
       "Selling_type     0\n",
       "Transmission     0\n",
       "Owner            0\n",
       "dtype: int64"
      ]
     },
     "execution_count": 4,
     "metadata": {},
     "output_type": "execute_result"
    }
   ],
   "source": [
    "df.isna().sum()"
   ]
  },
  {
   "cell_type": "code",
   "execution_count": 5,
   "id": "092294e2",
   "metadata": {},
   "outputs": [],
   "source": [
    "df = df.drop(['Car_Name','Year'],axis= 1)"
   ]
  },
  {
   "cell_type": "markdown",
   "id": "1489b404",
   "metadata": {},
   "source": [
    "### encoding On Ordinal and Nominal Data "
   ]
  },
  {
   "cell_type": "code",
   "execution_count": 6,
   "id": "150c6326",
   "metadata": {},
   "outputs": [
    {
     "data": {
      "text/plain": [
       "Selling_type\n",
       "Dealer        195\n",
       "Individual    106\n",
       "Name: count, dtype: int64"
      ]
     },
     "execution_count": 6,
     "metadata": {},
     "output_type": "execute_result"
    }
   ],
   "source": [
    "df['Selling_type'].value_counts()"
   ]
  },
  {
   "cell_type": "code",
   "execution_count": 7,
   "id": "7b40ab51",
   "metadata": {},
   "outputs": [],
   "source": [
    "df['Selling_type'].replace({'Dealer':1,'Individual':0},inplace=True)"
   ]
  },
  {
   "cell_type": "code",
   "execution_count": 8,
   "id": "0a571494",
   "metadata": {},
   "outputs": [
    {
     "data": {
      "text/plain": [
       "Transmission\n",
       "Manual       261\n",
       "Automatic     40\n",
       "Name: count, dtype: int64"
      ]
     },
     "execution_count": 8,
     "metadata": {},
     "output_type": "execute_result"
    }
   ],
   "source": [
    "df['Transmission'].value_counts()"
   ]
  },
  {
   "cell_type": "code",
   "execution_count": 9,
   "id": "55af8e6a",
   "metadata": {},
   "outputs": [],
   "source": [
    "df['Transmission'].replace({'Manual':1,'Automatic':0},inplace=True)"
   ]
  },
  {
   "cell_type": "code",
   "execution_count": null,
   "id": "ccbf5d7d",
   "metadata": {},
   "outputs": [],
   "source": []
  },
  {
   "cell_type": "code",
   "execution_count": 10,
   "id": "87880508",
   "metadata": {},
   "outputs": [
    {
     "data": {
      "text/plain": [
       "Fuel_Type\n",
       "Petrol    239\n",
       "Diesel     60\n",
       "CNG         2\n",
       "Name: count, dtype: int64"
      ]
     },
     "execution_count": 10,
     "metadata": {},
     "output_type": "execute_result"
    }
   ],
   "source": [
    "df['Fuel_Type'].value_counts()"
   ]
  },
  {
   "cell_type": "code",
   "execution_count": 11,
   "id": "80a80157",
   "metadata": {},
   "outputs": [
    {
     "data": {
      "text/html": [
       "<div>\n",
       "<style scoped>\n",
       "    .dataframe tbody tr th:only-of-type {\n",
       "        vertical-align: middle;\n",
       "    }\n",
       "\n",
       "    .dataframe tbody tr th {\n",
       "        vertical-align: top;\n",
       "    }\n",
       "\n",
       "    .dataframe thead th {\n",
       "        text-align: right;\n",
       "    }\n",
       "</style>\n",
       "<table border=\"1\" class=\"dataframe\">\n",
       "  <thead>\n",
       "    <tr style=\"text-align: right;\">\n",
       "      <th></th>\n",
       "      <th>Selling_Price</th>\n",
       "      <th>Present_Price</th>\n",
       "      <th>Driven_kms</th>\n",
       "      <th>Selling_type</th>\n",
       "      <th>Transmission</th>\n",
       "      <th>Owner</th>\n",
       "      <th>Fuel_Type_CNG</th>\n",
       "      <th>Fuel_Type_Diesel</th>\n",
       "      <th>Fuel_Type_Petrol</th>\n",
       "    </tr>\n",
       "  </thead>\n",
       "  <tbody>\n",
       "    <tr>\n",
       "      <th>0</th>\n",
       "      <td>3.35</td>\n",
       "      <td>5.59</td>\n",
       "      <td>27000</td>\n",
       "      <td>1</td>\n",
       "      <td>1</td>\n",
       "      <td>0</td>\n",
       "      <td>0</td>\n",
       "      <td>0</td>\n",
       "      <td>1</td>\n",
       "    </tr>\n",
       "    <tr>\n",
       "      <th>1</th>\n",
       "      <td>4.75</td>\n",
       "      <td>9.54</td>\n",
       "      <td>43000</td>\n",
       "      <td>1</td>\n",
       "      <td>1</td>\n",
       "      <td>0</td>\n",
       "      <td>0</td>\n",
       "      <td>1</td>\n",
       "      <td>0</td>\n",
       "    </tr>\n",
       "    <tr>\n",
       "      <th>2</th>\n",
       "      <td>7.25</td>\n",
       "      <td>9.85</td>\n",
       "      <td>6900</td>\n",
       "      <td>1</td>\n",
       "      <td>1</td>\n",
       "      <td>0</td>\n",
       "      <td>0</td>\n",
       "      <td>0</td>\n",
       "      <td>1</td>\n",
       "    </tr>\n",
       "    <tr>\n",
       "      <th>3</th>\n",
       "      <td>2.85</td>\n",
       "      <td>4.15</td>\n",
       "      <td>5200</td>\n",
       "      <td>1</td>\n",
       "      <td>1</td>\n",
       "      <td>0</td>\n",
       "      <td>0</td>\n",
       "      <td>0</td>\n",
       "      <td>1</td>\n",
       "    </tr>\n",
       "    <tr>\n",
       "      <th>4</th>\n",
       "      <td>4.60</td>\n",
       "      <td>6.87</td>\n",
       "      <td>42450</td>\n",
       "      <td>1</td>\n",
       "      <td>1</td>\n",
       "      <td>0</td>\n",
       "      <td>0</td>\n",
       "      <td>1</td>\n",
       "      <td>0</td>\n",
       "    </tr>\n",
       "    <tr>\n",
       "      <th>...</th>\n",
       "      <td>...</td>\n",
       "      <td>...</td>\n",
       "      <td>...</td>\n",
       "      <td>...</td>\n",
       "      <td>...</td>\n",
       "      <td>...</td>\n",
       "      <td>...</td>\n",
       "      <td>...</td>\n",
       "      <td>...</td>\n",
       "    </tr>\n",
       "    <tr>\n",
       "      <th>296</th>\n",
       "      <td>9.50</td>\n",
       "      <td>11.60</td>\n",
       "      <td>33988</td>\n",
       "      <td>1</td>\n",
       "      <td>1</td>\n",
       "      <td>0</td>\n",
       "      <td>0</td>\n",
       "      <td>1</td>\n",
       "      <td>0</td>\n",
       "    </tr>\n",
       "    <tr>\n",
       "      <th>297</th>\n",
       "      <td>4.00</td>\n",
       "      <td>5.90</td>\n",
       "      <td>60000</td>\n",
       "      <td>1</td>\n",
       "      <td>1</td>\n",
       "      <td>0</td>\n",
       "      <td>0</td>\n",
       "      <td>0</td>\n",
       "      <td>1</td>\n",
       "    </tr>\n",
       "    <tr>\n",
       "      <th>298</th>\n",
       "      <td>3.35</td>\n",
       "      <td>11.00</td>\n",
       "      <td>87934</td>\n",
       "      <td>1</td>\n",
       "      <td>1</td>\n",
       "      <td>0</td>\n",
       "      <td>0</td>\n",
       "      <td>0</td>\n",
       "      <td>1</td>\n",
       "    </tr>\n",
       "    <tr>\n",
       "      <th>299</th>\n",
       "      <td>11.50</td>\n",
       "      <td>12.50</td>\n",
       "      <td>9000</td>\n",
       "      <td>1</td>\n",
       "      <td>1</td>\n",
       "      <td>0</td>\n",
       "      <td>0</td>\n",
       "      <td>1</td>\n",
       "      <td>0</td>\n",
       "    </tr>\n",
       "    <tr>\n",
       "      <th>300</th>\n",
       "      <td>5.30</td>\n",
       "      <td>5.90</td>\n",
       "      <td>5464</td>\n",
       "      <td>1</td>\n",
       "      <td>1</td>\n",
       "      <td>0</td>\n",
       "      <td>0</td>\n",
       "      <td>0</td>\n",
       "      <td>1</td>\n",
       "    </tr>\n",
       "  </tbody>\n",
       "</table>\n",
       "<p>301 rows × 9 columns</p>\n",
       "</div>"
      ],
      "text/plain": [
       "     Selling_Price  Present_Price  Driven_kms  Selling_type  Transmission  \\\n",
       "0             3.35           5.59       27000             1             1   \n",
       "1             4.75           9.54       43000             1             1   \n",
       "2             7.25           9.85        6900             1             1   \n",
       "3             2.85           4.15        5200             1             1   \n",
       "4             4.60           6.87       42450             1             1   \n",
       "..             ...            ...         ...           ...           ...   \n",
       "296           9.50          11.60       33988             1             1   \n",
       "297           4.00           5.90       60000             1             1   \n",
       "298           3.35          11.00       87934             1             1   \n",
       "299          11.50          12.50        9000             1             1   \n",
       "300           5.30           5.90        5464             1             1   \n",
       "\n",
       "     Owner  Fuel_Type_CNG  Fuel_Type_Diesel  Fuel_Type_Petrol  \n",
       "0        0              0                 0                 1  \n",
       "1        0              0                 1                 0  \n",
       "2        0              0                 0                 1  \n",
       "3        0              0                 0                 1  \n",
       "4        0              0                 1                 0  \n",
       "..     ...            ...               ...               ...  \n",
       "296      0              0                 1                 0  \n",
       "297      0              0                 0                 1  \n",
       "298      0              0                 0                 1  \n",
       "299      0              0                 1                 0  \n",
       "300      0              0                 0                 1  \n",
       "\n",
       "[301 rows x 9 columns]"
      ]
     },
     "execution_count": 11,
     "metadata": {},
     "output_type": "execute_result"
    }
   ],
   "source": [
    "df= pd.get_dummies(df ,dtype= int)\n",
    "df"
   ]
  },
  {
   "cell_type": "code",
   "execution_count": 12,
   "id": "8b1a44f8",
   "metadata": {},
   "outputs": [],
   "source": [
    "x= df.drop('Selling_type',axis=1)\n",
    "y = df['Selling_Price']"
   ]
  },
  {
   "cell_type": "markdown",
   "id": "4008c771",
   "metadata": {},
   "source": [
    "### train_test_split"
   ]
  },
  {
   "cell_type": "code",
   "execution_count": 13,
   "id": "a0535066",
   "metadata": {},
   "outputs": [],
   "source": [
    "x_train,x_test,y_train,y_test = train_test_split(x,y,test_size=0.2,random_state=0)"
   ]
  },
  {
   "cell_type": "code",
   "execution_count": null,
   "id": "9b6203ae",
   "metadata": {},
   "outputs": [],
   "source": []
  },
  {
   "cell_type": "markdown",
   "id": "e20b6888",
   "metadata": {},
   "source": [
    "### Model Evaluation"
   ]
  },
  {
   "cell_type": "code",
   "execution_count": 14,
   "id": "e9fb2add",
   "metadata": {},
   "outputs": [
    {
     "data": {
      "text/html": [
       "<style>#sk-container-id-1 {color: black;}#sk-container-id-1 pre{padding: 0;}#sk-container-id-1 div.sk-toggleable {background-color: white;}#sk-container-id-1 label.sk-toggleable__label {cursor: pointer;display: block;width: 100%;margin-bottom: 0;padding: 0.3em;box-sizing: border-box;text-align: center;}#sk-container-id-1 label.sk-toggleable__label-arrow:before {content: \"▸\";float: left;margin-right: 0.25em;color: #696969;}#sk-container-id-1 label.sk-toggleable__label-arrow:hover:before {color: black;}#sk-container-id-1 div.sk-estimator:hover label.sk-toggleable__label-arrow:before {color: black;}#sk-container-id-1 div.sk-toggleable__content {max-height: 0;max-width: 0;overflow: hidden;text-align: left;background-color: #f0f8ff;}#sk-container-id-1 div.sk-toggleable__content pre {margin: 0.2em;color: black;border-radius: 0.25em;background-color: #f0f8ff;}#sk-container-id-1 input.sk-toggleable__control:checked~div.sk-toggleable__content {max-height: 200px;max-width: 100%;overflow: auto;}#sk-container-id-1 input.sk-toggleable__control:checked~label.sk-toggleable__label-arrow:before {content: \"▾\";}#sk-container-id-1 div.sk-estimator input.sk-toggleable__control:checked~label.sk-toggleable__label {background-color: #d4ebff;}#sk-container-id-1 div.sk-label input.sk-toggleable__control:checked~label.sk-toggleable__label {background-color: #d4ebff;}#sk-container-id-1 input.sk-hidden--visually {border: 0;clip: rect(1px 1px 1px 1px);clip: rect(1px, 1px, 1px, 1px);height: 1px;margin: -1px;overflow: hidden;padding: 0;position: absolute;width: 1px;}#sk-container-id-1 div.sk-estimator {font-family: monospace;background-color: #f0f8ff;border: 1px dotted black;border-radius: 0.25em;box-sizing: border-box;margin-bottom: 0.5em;}#sk-container-id-1 div.sk-estimator:hover {background-color: #d4ebff;}#sk-container-id-1 div.sk-parallel-item::after {content: \"\";width: 100%;border-bottom: 1px solid gray;flex-grow: 1;}#sk-container-id-1 div.sk-label:hover label.sk-toggleable__label {background-color: #d4ebff;}#sk-container-id-1 div.sk-serial::before {content: \"\";position: absolute;border-left: 1px solid gray;box-sizing: border-box;top: 0;bottom: 0;left: 50%;z-index: 0;}#sk-container-id-1 div.sk-serial {display: flex;flex-direction: column;align-items: center;background-color: white;padding-right: 0.2em;padding-left: 0.2em;position: relative;}#sk-container-id-1 div.sk-item {position: relative;z-index: 1;}#sk-container-id-1 div.sk-parallel {display: flex;align-items: stretch;justify-content: center;background-color: white;position: relative;}#sk-container-id-1 div.sk-item::before, #sk-container-id-1 div.sk-parallel-item::before {content: \"\";position: absolute;border-left: 1px solid gray;box-sizing: border-box;top: 0;bottom: 0;left: 50%;z-index: -1;}#sk-container-id-1 div.sk-parallel-item {display: flex;flex-direction: column;z-index: 1;position: relative;background-color: white;}#sk-container-id-1 div.sk-parallel-item:first-child::after {align-self: flex-end;width: 50%;}#sk-container-id-1 div.sk-parallel-item:last-child::after {align-self: flex-start;width: 50%;}#sk-container-id-1 div.sk-parallel-item:only-child::after {width: 0;}#sk-container-id-1 div.sk-dashed-wrapped {border: 1px dashed gray;margin: 0 0.4em 0.5em 0.4em;box-sizing: border-box;padding-bottom: 0.4em;background-color: white;}#sk-container-id-1 div.sk-label label {font-family: monospace;font-weight: bold;display: inline-block;line-height: 1.2em;}#sk-container-id-1 div.sk-label-container {text-align: center;}#sk-container-id-1 div.sk-container {/* jupyter's `normalize.less` sets `[hidden] { display: none; }` but bootstrap.min.css set `[hidden] { display: none !important; }` so we also need the `!important` here to be able to override the default hidden behavior on the sphinx rendered scikit-learn.org. See: https://github.com/scikit-learn/scikit-learn/issues/21755 */display: inline-block !important;position: relative;}#sk-container-id-1 div.sk-text-repr-fallback {display: none;}</style><div id=\"sk-container-id-1\" class=\"sk-top-container\"><div class=\"sk-text-repr-fallback\"><pre>DecisionTreeRegressor(random_state=0)</pre><b>In a Jupyter environment, please rerun this cell to show the HTML representation or trust the notebook. <br />On GitHub, the HTML representation is unable to render, please try loading this page with nbviewer.org.</b></div><div class=\"sk-container\" hidden><div class=\"sk-item\"><div class=\"sk-estimator sk-toggleable\"><input class=\"sk-toggleable__control sk-hidden--visually\" id=\"sk-estimator-id-1\" type=\"checkbox\" checked><label for=\"sk-estimator-id-1\" class=\"sk-toggleable__label sk-toggleable__label-arrow\">DecisionTreeRegressor</label><div class=\"sk-toggleable__content\"><pre>DecisionTreeRegressor(random_state=0)</pre></div></div></div></div></div>"
      ],
      "text/plain": [
       "DecisionTreeRegressor(random_state=0)"
      ]
     },
     "execution_count": 14,
     "metadata": {},
     "output_type": "execute_result"
    }
   ],
   "source": [
    "dt_reg= DecisionTreeRegressor(random_state=0)\n",
    "dt_reg.fit(x_train,y_train)"
   ]
  },
  {
   "cell_type": "code",
   "execution_count": 15,
   "id": "1afdce87",
   "metadata": {},
   "outputs": [
    {
     "data": {
      "text/plain": [
       "1.0"
      ]
     },
     "execution_count": 15,
     "metadata": {},
     "output_type": "execute_result"
    }
   ],
   "source": [
    "dt_reg.score(x_train,y_train)"
   ]
  },
  {
   "cell_type": "code",
   "execution_count": 16,
   "id": "916bec24",
   "metadata": {},
   "outputs": [
    {
     "data": {
      "text/plain": [
       "0.9982339509832721"
      ]
     },
     "execution_count": 16,
     "metadata": {},
     "output_type": "execute_result"
    }
   ],
   "source": [
    "dt_reg.score(x_test,y_test)"
   ]
  },
  {
   "cell_type": "code",
   "execution_count": 17,
   "id": "21f7471c",
   "metadata": {},
   "outputs": [
    {
     "data": {
      "text/plain": [
       "Index(['Selling_Price', 'Present_Price', 'Driven_kms', 'Transmission', 'Owner',\n",
       "       'Fuel_Type_CNG', 'Fuel_Type_Diesel', 'Fuel_Type_Petrol'],\n",
       "      dtype='object')"
      ]
     },
     "execution_count": 17,
     "metadata": {},
     "output_type": "execute_result"
    }
   ],
   "source": [
    "x_columns= x.columns\n",
    "x_columns"
   ]
  },
  {
   "cell_type": "markdown",
   "id": "f5cdb947",
   "metadata": {},
   "source": [
    "### Decision Tree Ploting "
   ]
  },
  {
   "cell_type": "code",
   "execution_count": 18,
   "id": "621eb84d",
   "metadata": {},
   "outputs": [
    {
     "data": {
      "image/png": "[encoded data removed]",
      "text/plain": [
       "<Figure size 1000x800 with 1 Axes>"
      ]
     },
     "metadata": {},
     "output_type": "display_data"
    }
   ],
   "source": [
    "plt.figure(figsize=(10,8))\n",
    "tree= plot_tree(dt_reg,feature_names=['Selling_Price', 'Present_Price', 'Driven_kms', 'Transmission', 'Owner',\n",
    "       'Fuel_Type_CNG', 'Fuel_Type_Diesel', 'Fuel_Type_Petrol'])\n",
    "plt.savefig(\"DT_reg_car_data.png\")"
   ]
  },
  {
   "cell_type": "markdown",
   "id": "bfd2649a",
   "metadata": {},
   "source": [
    "### Training Data evaluation"
   ]
  },
  {
   "cell_type": "code",
   "execution_count": 19,
   "id": "848d69a1",
   "metadata": {},
   "outputs": [],
   "source": [
    "y_pred_train= dt_reg.predict(x_train)"
   ]
  },
  {
   "cell_type": "code",
   "execution_count": 20,
   "id": "675c1025",
   "metadata": {},
   "outputs": [
    {
     "name": "stdout",
     "output_type": "stream",
     "text": [
      "MSE: 1.2839532962581572e-34\n",
      "RMSE: 1.1331166295920986e-17\n",
      "MAE: 2.3129646346357427e-18\n",
      "R_2: 1.0\n"
     ]
    }
   ],
   "source": [
    "mse= mean_squared_error(y_train,y_pred_train)\n",
    "print(\"MSE:\",mse)\n",
    "rmse= np.sqrt(mse)\n",
    "print(\"RMSE:\",rmse)\n",
    "mae= mean_absolute_error(y_train,y_pred_train)\n",
    "print(\"MAE:\",mae)\n",
    "r2_sc= r2_score(y_train,y_pred_train)\n",
    "print(\"R_2:\",r2_sc)"
   ]
  },
  {
   "cell_type": "markdown",
   "id": "47932652",
   "metadata": {},
   "source": [
    "### Testing Data Evaluation"
   ]
  },
  {
   "cell_type": "code",
   "execution_count": 21,
   "id": "8c88c661",
   "metadata": {},
   "outputs": [],
   "source": [
    "y_pred= dt_reg.predict(x_test)"
   ]
  },
  {
   "cell_type": "code",
   "execution_count": 22,
   "id": "70568e11",
   "metadata": {},
   "outputs": [
    {
     "name": "stdout",
     "output_type": "stream",
     "text": [
      "MSE: 0.044640983606557424\n",
      "RMSE: 0.21128413003952148\n",
      "MAE: 0.0821311475409836\n",
      "R_2: 0.9982339509832721\n"
     ]
    }
   ],
   "source": [
    "mse= mean_squared_error(y_test,y_pred)\n",
    "print(\"MSE:\",mse)\n",
    "rmse= np.sqrt(mse)\n",
    "print(\"RMSE:\",rmse)\n",
    "mae= mean_absolute_error(y_test,y_pred)\n",
    "print(\"MAE:\",mae)\n",
    "r2_sc= r2_score(y_test,y_pred)\n",
    "print(\"R_2:\",r2_sc)"
   ]
  },
  {
   "cell_type": "markdown",
   "id": "21ef89b1",
   "metadata": {},
   "source": [
    "### Pruning"
   ]
  },
  {
   "cell_type": "code",
   "execution_count": 23,
   "id": "bdc68292",
   "metadata": {},
   "outputs": [
    {
     "data": {
      "text/plain": [
       "array([0.00000000e+00, 5.55111512e-18, 5.55111512e-18, 7.40148683e-18,\n",
       "       7.40148683e-18, 5.92118946e-17, 5.92118946e-17, 1.18423789e-16,\n",
       "       1.18423789e-16, 1.18423789e-16, 1.48029737e-16, 2.36847579e-16,\n",
       "       2.08333333e-07, 2.77777778e-07, 2.77777778e-07, 2.77777778e-07,\n",
       "       3.12500000e-07, 6.25000000e-07, 8.33333333e-07, 1.33333333e-06,\n",
       "       2.38095238e-06, 2.50000000e-06, 2.81250000e-06, 4.21875000e-06,\n",
       "       4.44444444e-06, 5.20833333e-06, 5.20833333e-06, 5.20833333e-06,\n",
       "       5.20833333e-06, 5.20833333e-06, 5.20833333e-06, 5.20833333e-06,\n",
       "       5.20833333e-06, 5.20833333e-06, 5.20833333e-06, 5.20833333e-06,\n",
       "       6.80555556e-06, 6.94444444e-06, 6.94444444e-06, 6.94444444e-06,\n",
       "       6.94444444e-06, 6.94444444e-06, 6.94444444e-06, 6.94444444e-06,\n",
       "       7.03125000e-06, 7.81250000e-06, 8.33333333e-06, 1.04166667e-05,\n",
       "       1.25000000e-05, 1.38888889e-05, 1.48809524e-05, 1.56250000e-05,\n",
       "       1.62037037e-05, 1.90138889e-05, 2.03174603e-05, 2.08333333e-05,\n",
       "       2.16051136e-05, 2.22222222e-05, 2.34375000e-05, 2.52083333e-05,\n",
       "       2.77777778e-05, 2.77777778e-05, 2.77777778e-05, 2.81250000e-05,\n",
       "       2.86011905e-05, 3.12500000e-05, 3.89030934e-05, 4.01785714e-05,\n",
       "       4.08333333e-05, 4.16666667e-05, 4.16666667e-05, 4.16666667e-05,\n",
       "       4.34027778e-05, 4.34027778e-05, 4.86111111e-05, 6.02083333e-05,\n",
       "       6.25000000e-05, 6.25000000e-05, 6.25000000e-05, 6.30208333e-05,\n",
       "       6.51041667e-05, 7.03125000e-05, 7.33506944e-05, 8.02777778e-05,\n",
       "       8.46560847e-05, 8.50694444e-05, 9.07500000e-05, 9.30059524e-05,\n",
       "       9.45312500e-05, 1.14682540e-04, 1.30208333e-04, 1.32275132e-04,\n",
       "       1.33333333e-04, 1.46701389e-04, 1.47347222e-04, 1.50948160e-04,\n",
       "       2.03174603e-04, 2.10069444e-04, 2.10069444e-04, 2.18750000e-04,\n",
       "       2.22578348e-04, 2.50868056e-04, 2.66666667e-04, 2.72222222e-04,\n",
       "       3.40277778e-04, 3.40277778e-04, 3.47778668e-04, 3.88888889e-04,\n",
       "       4.03659558e-04, 4.40037037e-04, 4.52457265e-04, 6.08006536e-04,\n",
       "       7.00500801e-04, 7.50000000e-04, 7.60833674e-04, 8.06666667e-04,\n",
       "       1.06260417e-03, 1.17361111e-03, 1.31705479e-03, 1.38946759e-03,\n",
       "       2.48003166e-03, 2.85208333e-03, 2.98796671e-03, 3.69687500e-03,\n",
       "       4.72321429e-03, 4.97487292e-03, 5.14692045e-03, 5.24000010e-03,\n",
       "       5.97223876e-03, 6.38020833e-03, 6.58008333e-03, 8.33333333e-03,\n",
       "       1.58138495e-02, 1.58203125e-02, 1.60681976e-02, 1.68911470e-02,\n",
       "       2.72281015e-02, 3.88808599e-02, 5.35357202e-02, 9.74743449e-02,\n",
       "       1.27065744e-01, 2.59530030e-01, 5.52350074e-01, 7.42730035e-01,\n",
       "       8.30149617e-01, 2.80841115e+00, 4.95652039e+00, 1.51369786e+01])"
      ]
     },
     "execution_count": 23,
     "metadata": {},
     "output_type": "execute_result"
    }
   ],
   "source": [
    "ccp_alpha_values= dt_reg.cost_complexity_pruning_path(x_train,y_train)['ccp_alphas']\n",
    "ccp_alpha_values"
   ]
  },
  {
   "cell_type": "code",
   "execution_count": 24,
   "id": "1ddbce0b",
   "metadata": {},
   "outputs": [],
   "source": [
    "ccp_alpha_values= dt_reg.cost_complexity_pruning_path(x_train,y_train)['ccp_alphas']\n",
    "ccp_alpha_values\n",
    "train_acc_list,test_acc_list= [],[]\n",
    "for ccp_alphas in ccp_alpha_values:\n",
    "    dt_reg= DecisionTreeRegressor(ccp_alpha=ccp_alphas ,random_state=0 )\n",
    "    dt_reg.fit(x_train,y_train)\n",
    "    train_acc_list.append(dt_reg.score(x_train,y_train))\n",
    "    test_acc_list.append(dt_reg.score(x_test,y_test))\n",
    "    "
   ]
  },
  {
   "cell_type": "code",
   "execution_count": 25,
   "id": "92068792",
   "metadata": {},
   "outputs": [
    {
     "data": {
      "text/plain": [
       "[<matplotlib.lines.Line2D at 0x29e53187c10>]"
      ]
     },
     "execution_count": 25,
     "metadata": {},
     "output_type": "execute_result"
    },
    {
     "data": {
      "image/png": "[encoded data removed]",
      "text/plain": [
       "<Figure size 1000x800 with 1 Axes>"
      ]
     },
     "metadata": {},
     "output_type": "display_data"
    }
   ],
   "source": [
    "\n",
    "plt.figure(figsize=(10,8))\n",
    "plt.plot(ccp_alpha_values,train_acc_list)\n",
    "plt.plot(ccp_alpha_values,test_acc_list)"
   ]
  },
  {
   "cell_type": "code",
   "execution_count": 26,
   "id": "d8d079b3",
   "metadata": {},
   "outputs": [
    {
     "name": "stdout",
     "output_type": "stream",
     "text": [
      "Training Accuracy: 0.9861407886919633\n",
      "Testing Accuracy: 0.9707112144574328\n"
     ]
    }
   ],
   "source": [
    "dt_reg_pruning= DecisionTreeRegressor(ccp_alpha=9.74743449e-02, random_state=0)\n",
    "dt_reg_pruning.fit(x_train,y_train)\n",
    "print(\"Training Accuracy:\",dt_reg_pruning.score(x_train,y_train))\n",
    "print(\"Testing Accuracy:\",dt_reg_pruning.score(x_test,y_test))"
   ]
  },
  {
   "cell_type": "code",
   "execution_count": 27,
   "id": "ba1f050b",
   "metadata": {},
   "outputs": [
    {
     "data": {
      "text/plain": [
       "5.20833333e-06"
      ]
     },
     "execution_count": 27,
     "metadata": {},
     "output_type": "execute_result"
    }
   ],
   "source": [
    "5.20833333e-06"
   ]
  },
  {
   "cell_type": "code",
   "execution_count": 28,
   "id": "32f0da25",
   "metadata": {},
   "outputs": [
    {
     "data": {
      "text/plain": [
       "0"
      ]
     },
     "execution_count": 28,
     "metadata": {},
     "output_type": "execute_result"
    }
   ],
   "source": [
    "np.argmax(train_acc_list)"
   ]
  },
  {
   "cell_type": "code",
   "execution_count": 29,
   "id": "2d919953",
   "metadata": {},
   "outputs": [
    {
     "data": {
      "text/plain": [
       "1.0"
      ]
     },
     "execution_count": 29,
     "metadata": {},
     "output_type": "execute_result"
    }
   ],
   "source": [
    "train_acc_list[0]"
   ]
  },
  {
   "cell_type": "code",
   "execution_count": null,
   "id": "89d52a14",
   "metadata": {},
   "outputs": [],
   "source": []
  },
  {
   "cell_type": "code",
   "execution_count": null,
   "id": "5d84ccd8-373b-4dac-b045-019fbe5fd025",
   "metadata": {},
   "outputs": [],
   "source": []
  },
  {
   "cell_type": "code",
   "execution_count": null,
   "id": "65e03550-d618-42b4-a161-0666f502f1ad",
   "metadata": {},
   "outputs": [],
   "source": []
  }
 ],
 "metadata": {
  "kernelspec": {
   "display_name": "Python 3 (ipykernel)",
   "language": "python",
   "name": "python3"
  },
  "language_info": {
   "codemirror_mode": {
    "name": "ipython",
    "version": 3
   },
   "file_extension": ".py",
   "mimetype": "text/x-python",
   "name": "python",
   "nbconvert_exporter": "python",
   "pygments_lexer": "ipython3",
   "version": "3.11.5"
  }
 },
 "nbformat": 4,
 "nbformat_minor": 5
}
