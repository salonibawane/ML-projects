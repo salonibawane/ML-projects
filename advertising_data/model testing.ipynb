{
 "cells": [
  {
   "cell_type": "code",
   "execution_count": 3,
   "id": "d10cd5fc-f4c7-404e-bad2-634a609138cb",
   "metadata": {},
   "outputs": [],
   "source": [
    "import numpy as np\n",
    "import pickle\n",
    "import json\n",
    "import warnings\n",
    "warnings.filterwarnings('ignore')"
   ]
  },
  {
   "cell_type": "code",
   "execution_count": 4,
   "id": "d22292d2-6a88-496e-a089-7f95bc2b2934",
   "metadata": {},
   "outputs": [],
   "source": [
    "with open(\"linear_regression.pkl\", 'rb') as f:\n",
    "    model = pickle.load(f)\n",
    "\n",
    "# with open(\"column_data.json\", 'r') as f:\n",
    "#     col_data = json.load(f)"
   ]
  },
  {
   "cell_type": "code",
   "execution_count": 5,
   "id": "d0a48e6e-09ad-403a-8428-dd5efc081a28",
   "metadata": {},
   "outputs": [],
   "source": [
    "col_names = model.feature_names_in_"
   ]
  },
  {
   "cell_type": "code",
   "execution_count": 6,
   "id": "830e65f0-38ac-4838-b9aa-8d0c0c8a3d7c",
   "metadata": {},
   "outputs": [
    {
     "data": {
      "text/plain": [
       "array(['TV', 'Radio', 'Newspaper'], dtype=object)"
      ]
     },
     "execution_count": 6,
     "metadata": {},
     "output_type": "execute_result"
    }
   ],
   "source": [
    "col_names"
   ]
  },
  {
   "cell_type": "code",
   "execution_count": 7,
   "id": "d278c670-98b1-42c8-93f3-b1934daf566e",
   "metadata": {},
   "outputs": [
    {
     "ename": "TypeError",
     "evalue": "can only concatenate str (not \"float\") to str",
     "output_type": "error",
     "traceback": [
      "\u001b[1;31m---------------------------------------------------------------------------\u001b[0m",
      "\u001b[1;31mTypeError\u001b[0m                                 Traceback (most recent call last)",
      "Cell \u001b[1;32mIn[7], line 6\u001b[0m\n\u001b[0;32m      3\u001b[0m Newspaper \u001b[38;5;241m=\u001b[39m \u001b[38;5;241m69.2\u001b[39m\n\u001b[0;32m      5\u001b[0m \u001b[38;5;66;03m# Newspaper = 'Newspaper_'+ Newspaper\u001b[39;00m\n\u001b[1;32m----> 6\u001b[0m Newspaper_index \u001b[38;5;241m=\u001b[39m np\u001b[38;5;241m.\u001b[39mwhere(col_names \u001b[38;5;241m==\u001b[39m \u001b[38;5;124;43m'\u001b[39;49m\u001b[38;5;124;43mNewspaper_\u001b[39;49m\u001b[38;5;124;43m'\u001b[39;49m\u001b[38;5;241;43m+\u001b[39;49m\u001b[43m \u001b[49m\u001b[43mNewspaper\u001b[49m)[\u001b[38;5;241m0\u001b[39m][\u001b[38;5;241m0\u001b[39m]\n\u001b[0;32m      7\u001b[0m \u001b[38;5;66;03m# print(\"Newspaper_index\",Newspaper_index)\u001b[39;00m\n\u001b[0;32m      9\u001b[0m TV \u001b[38;5;241m=\u001b[39m col_data[\u001b[38;5;124m'\u001b[39m\u001b[38;5;124mTV\u001b[39m\u001b[38;5;124m'\u001b[39m][TV]\n",
      "\u001b[1;31mTypeError\u001b[0m: can only concatenate str (not \"float\") to str"
     ]
    }
   ],
   "source": [
    "TV = 230.0 \n",
    "Radio = 37.8\n",
    "Newspaper = 69.2\n",
    "\n",
    "# Newspaper = 'Newspaper_'+ Newspaper\n",
    "Newspaper_index = np.where(col_names == 'Newspaper_'+ Newspaper)[0][0]\n",
    "# print(\"Newspaper_index\",Newspaper_index)\n",
    "\n",
    "TV = col_data['TV'][TV]\n",
    "Radio = col_data['Radio'][Radio]\n",
    "\n",
    "test_array = np.zeros((1,model.n_features_in_))\n",
    "test_array[0,0] = TV\n",
    "test_array[0,1] = Radio\n",
    "test_array[0,2] = Newspaper\n",
    "test_array[0,Newspaper_index] = 1\n",
    "\n",
    "predicted_price = model.predict(test_array)[0]\n",
    "print(\"predicted_price :\",predicted_price)"
   ]
  },
  {
   "cell_type": "code",
   "execution_count": null,
   "id": "c652d940-9e25-4fbe-ac38-bb41631a8842",
   "metadata": {},
   "outputs": [],
   "source": []
  }
 ],
 "metadata": {
  "kernelspec": {
   "display_name": "Python 3 (ipykernel)",
   "language": "python",
   "name": "python3"
  },
  "language_info": {
   "codemirror_mode": {
    "name": "ipython",
    "version": 3
   },
   "file_extension": ".py",
   "mimetype": "text/x-python",
   "name": "python",
   "nbconvert_exporter": "python",
   "pygments_lexer": "ipython3",
   "version": "3.11.5"
  }
 },
 "nbformat": 4,
 "nbformat_minor": 5
}
